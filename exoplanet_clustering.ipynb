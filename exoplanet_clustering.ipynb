{
 "cells": [
  {
   "attachments": {},
   "cell_type": "markdown",
   "metadata": {},
   "source": [
    "CLUSTERING THE NASA EXOPLANET ARCHIVE WITH K-MEANS TO FIND NEW-EARTH CANDIDATES"
   ]
  },
  {
   "cell_type": "code",
   "execution_count": 1,
   "metadata": {},
   "outputs": [],
   "source": [
    "import numpy as np\n",
    "import pandas as pd\n",
    "from sklearn.cluster import KMeans\n",
    "from sklearn.preprocessing import StandardScaler\n",
    "from sklearn.decomposition import PCA\n",
    "from sklearn.metrics import silhouette_samples, silhouette_score\n",
    "import plotly.express as px\n",
    "import plotly.graph_objects as go\n",
    "import matplotlib.cm as cm\n",
    "import matplotlib.pyplot as plt\n",
    "from sklearn.datasets import make_blobs\n",
    "import warnings\n",
    "warnings.filterwarnings('ignore')"
   ]
  },
  {
   "cell_type": "code",
   "execution_count": 2,
   "metadata": {},
   "outputs": [
    {
     "data": {
      "text/html": [
       "<div>\n",
       "<style scoped>\n",
       "    .dataframe tbody tr th:only-of-type {\n",
       "        vertical-align: middle;\n",
       "    }\n",
       "\n",
       "    .dataframe tbody tr th {\n",
       "        vertical-align: top;\n",
       "    }\n",
       "\n",
       "    .dataframe thead th {\n",
       "        text-align: right;\n",
       "    }\n",
       "</style>\n",
       "<table border=\"1\" class=\"dataframe\">\n",
       "  <thead>\n",
       "    <tr style=\"text-align: right;\">\n",
       "      <th></th>\n",
       "      <th>pl_name</th>\n",
       "      <th>hostname</th>\n",
       "      <th>pl_orbper</th>\n",
       "      <th>pl_orbpererr1</th>\n",
       "      <th>pl_orbpererr2</th>\n",
       "      <th>pl_orbperlim</th>\n",
       "      <th>pl_orbsmax</th>\n",
       "      <th>pl_orbsmaxerr1</th>\n",
       "      <th>pl_orbsmaxerr2</th>\n",
       "      <th>pl_orbsmaxlim</th>\n",
       "      <th>...</th>\n",
       "      <th>pl_masseerr2</th>\n",
       "      <th>pl_masselim</th>\n",
       "      <th>pl_orbeccen</th>\n",
       "      <th>pl_orbeccenerr1</th>\n",
       "      <th>pl_orbeccenerr2</th>\n",
       "      <th>pl_orbeccenlim</th>\n",
       "      <th>pl_eqt</th>\n",
       "      <th>pl_eqterr1</th>\n",
       "      <th>pl_eqterr2</th>\n",
       "      <th>pl_eqtlim</th>\n",
       "    </tr>\n",
       "  </thead>\n",
       "  <tbody>\n",
       "    <tr>\n",
       "      <th>0</th>\n",
       "      <td>11 Com b</td>\n",
       "      <td>11 Com</td>\n",
       "      <td>NaN</td>\n",
       "      <td>NaN</td>\n",
       "      <td>NaN</td>\n",
       "      <td>NaN</td>\n",
       "      <td>1.21</td>\n",
       "      <td>0.06</td>\n",
       "      <td>-0.05</td>\n",
       "      <td>0.0</td>\n",
       "      <td>...</td>\n",
       "      <td>NaN</td>\n",
       "      <td>NaN</td>\n",
       "      <td>NaN</td>\n",
       "      <td>NaN</td>\n",
       "      <td>NaN</td>\n",
       "      <td>NaN</td>\n",
       "      <td>NaN</td>\n",
       "      <td>NaN</td>\n",
       "      <td>NaN</td>\n",
       "      <td>NaN</td>\n",
       "    </tr>\n",
       "    <tr>\n",
       "      <th>1</th>\n",
       "      <td>11 Com b</td>\n",
       "      <td>11 Com</td>\n",
       "      <td>326.03000</td>\n",
       "      <td>0.32</td>\n",
       "      <td>-0.32</td>\n",
       "      <td>0.0</td>\n",
       "      <td>1.29</td>\n",
       "      <td>0.05</td>\n",
       "      <td>-0.05</td>\n",
       "      <td>0.0</td>\n",
       "      <td>...</td>\n",
       "      <td>NaN</td>\n",
       "      <td>NaN</td>\n",
       "      <td>0.231</td>\n",
       "      <td>0.005</td>\n",
       "      <td>-0.005</td>\n",
       "      <td>0.0</td>\n",
       "      <td>NaN</td>\n",
       "      <td>NaN</td>\n",
       "      <td>NaN</td>\n",
       "      <td>NaN</td>\n",
       "    </tr>\n",
       "    <tr>\n",
       "      <th>2</th>\n",
       "      <td>11 UMi b</td>\n",
       "      <td>11 UMi</td>\n",
       "      <td>NaN</td>\n",
       "      <td>NaN</td>\n",
       "      <td>NaN</td>\n",
       "      <td>NaN</td>\n",
       "      <td>1.51</td>\n",
       "      <td>0.06</td>\n",
       "      <td>-0.05</td>\n",
       "      <td>0.0</td>\n",
       "      <td>...</td>\n",
       "      <td>NaN</td>\n",
       "      <td>NaN</td>\n",
       "      <td>NaN</td>\n",
       "      <td>NaN</td>\n",
       "      <td>NaN</td>\n",
       "      <td>NaN</td>\n",
       "      <td>NaN</td>\n",
       "      <td>NaN</td>\n",
       "      <td>NaN</td>\n",
       "      <td>NaN</td>\n",
       "    </tr>\n",
       "    <tr>\n",
       "      <th>3</th>\n",
       "      <td>11 UMi b</td>\n",
       "      <td>11 UMi</td>\n",
       "      <td>516.21997</td>\n",
       "      <td>3.20</td>\n",
       "      <td>-3.20</td>\n",
       "      <td>0.0</td>\n",
       "      <td>1.53</td>\n",
       "      <td>0.07</td>\n",
       "      <td>-0.07</td>\n",
       "      <td>0.0</td>\n",
       "      <td>...</td>\n",
       "      <td>NaN</td>\n",
       "      <td>NaN</td>\n",
       "      <td>0.080</td>\n",
       "      <td>0.030</td>\n",
       "      <td>-0.030</td>\n",
       "      <td>0.0</td>\n",
       "      <td>NaN</td>\n",
       "      <td>NaN</td>\n",
       "      <td>NaN</td>\n",
       "      <td>NaN</td>\n",
       "    </tr>\n",
       "    <tr>\n",
       "      <th>4</th>\n",
       "      <td>11 UMi b</td>\n",
       "      <td>11 UMi</td>\n",
       "      <td>516.22000</td>\n",
       "      <td>3.25</td>\n",
       "      <td>-3.25</td>\n",
       "      <td>0.0</td>\n",
       "      <td>1.54</td>\n",
       "      <td>0.07</td>\n",
       "      <td>-0.07</td>\n",
       "      <td>0.0</td>\n",
       "      <td>...</td>\n",
       "      <td>NaN</td>\n",
       "      <td>NaN</td>\n",
       "      <td>0.080</td>\n",
       "      <td>0.030</td>\n",
       "      <td>-0.030</td>\n",
       "      <td>0.0</td>\n",
       "      <td>NaN</td>\n",
       "      <td>NaN</td>\n",
       "      <td>NaN</td>\n",
       "      <td>NaN</td>\n",
       "    </tr>\n",
       "  </tbody>\n",
       "</table>\n",
       "<p>5 rows × 26 columns</p>\n",
       "</div>"
      ],
      "text/plain": [
       "    pl_name hostname  pl_orbper  pl_orbpererr1  pl_orbpererr2  pl_orbperlim  \\\n",
       "0  11 Com b   11 Com        NaN            NaN            NaN           NaN   \n",
       "1  11 Com b   11 Com  326.03000           0.32          -0.32           0.0   \n",
       "2  11 UMi b   11 UMi        NaN            NaN            NaN           NaN   \n",
       "3  11 UMi b   11 UMi  516.21997           3.20          -3.20           0.0   \n",
       "4  11 UMi b   11 UMi  516.22000           3.25          -3.25           0.0   \n",
       "\n",
       "   pl_orbsmax  pl_orbsmaxerr1  pl_orbsmaxerr2  pl_orbsmaxlim  ...  \\\n",
       "0        1.21            0.06           -0.05            0.0  ...   \n",
       "1        1.29            0.05           -0.05            0.0  ...   \n",
       "2        1.51            0.06           -0.05            0.0  ...   \n",
       "3        1.53            0.07           -0.07            0.0  ...   \n",
       "4        1.54            0.07           -0.07            0.0  ...   \n",
       "\n",
       "   pl_masseerr2  pl_masselim  pl_orbeccen  pl_orbeccenerr1  pl_orbeccenerr2  \\\n",
       "0           NaN          NaN          NaN              NaN              NaN   \n",
       "1           NaN          NaN        0.231            0.005           -0.005   \n",
       "2           NaN          NaN          NaN              NaN              NaN   \n",
       "3           NaN          NaN        0.080            0.030           -0.030   \n",
       "4           NaN          NaN        0.080            0.030           -0.030   \n",
       "\n",
       "   pl_orbeccenlim  pl_eqt  pl_eqterr1  pl_eqterr2  pl_eqtlim  \n",
       "0             NaN     NaN         NaN         NaN        NaN  \n",
       "1             0.0     NaN         NaN         NaN        NaN  \n",
       "2             NaN     NaN         NaN         NaN        NaN  \n",
       "3             0.0     NaN         NaN         NaN        NaN  \n",
       "4             0.0     NaN         NaN         NaN        NaN  \n",
       "\n",
       "[5 rows x 26 columns]"
      ]
     },
     "execution_count": 2,
     "metadata": {},
     "output_type": "execute_result"
    }
   ],
   "source": [
    "### load exoplanet dataset ###\n",
    "df = pd.read_excel('/Users/shaner/Desktop/nasa_exoplanets.xlsx')\n",
    "df.head()"
   ]
  },
  {
   "cell_type": "code",
   "execution_count": 3,
   "metadata": {},
   "outputs": [
    {
     "name": "stdout",
     "output_type": "stream",
     "text": [
      "<class 'pandas.core.frame.DataFrame'>\n",
      "RangeIndex: 34979 entries, 0 to 34978\n",
      "Data columns (total 26 columns):\n",
      " #   Column           Non-Null Count  Dtype  \n",
      "---  ------           --------------  -----  \n",
      " 0   pl_name          34979 non-null  object \n",
      " 1   hostname         34979 non-null  object \n",
      " 2   pl_orbper        31918 non-null  float64\n",
      " 3   pl_orbpererr1    30584 non-null  float64\n",
      " 4   pl_orbpererr2    30583 non-null  float64\n",
      " 5   pl_orbperlim     31918 non-null  float64\n",
      " 6   pl_orbsmax       19324 non-null  float64\n",
      " 7   pl_orbsmaxerr1   5031 non-null   float64\n",
      " 8   pl_orbsmaxerr2   5030 non-null   float64\n",
      " 9   pl_orbsmaxlim    22103 non-null  float64\n",
      " 10  pl_rade          24108 non-null  float64\n",
      " 11  pl_radeerr1      23387 non-null  float64\n",
      " 12  pl_radeerr2      23387 non-null  float64\n",
      " 13  pl_radelim       26853 non-null  float64\n",
      " 14  pl_masse         3515 non-null   float64\n",
      " 15  pl_masseerr1     3264 non-null   float64\n",
      " 16  pl_masseerr2     3264 non-null   float64\n",
      " 17  pl_masselim      3547 non-null   float64\n",
      " 18  pl_orbeccen      17533 non-null  float64\n",
      " 19  pl_orbeccenerr1  3011 non-null   float64\n",
      " 20  pl_orbeccenerr2  3010 non-null   float64\n",
      " 21  pl_orbeccenlim   20279 non-null  float64\n",
      " 22  pl_eqt           16029 non-null  float64\n",
      " 23  pl_eqterr1       1793 non-null   float64\n",
      " 24  pl_eqterr2       1793 non-null   float64\n",
      " 25  pl_eqtlim        18774 non-null  float64\n",
      "dtypes: float64(24), object(2)\n",
      "memory usage: 6.9+ MB\n"
     ]
    }
   ],
   "source": [
    "df.info()"
   ]
  },
  {
   "cell_type": "code",
   "execution_count": 4,
   "metadata": {},
   "outputs": [
    {
     "data": {
      "text/html": [
       "<div>\n",
       "<style scoped>\n",
       "    .dataframe tbody tr th:only-of-type {\n",
       "        vertical-align: middle;\n",
       "    }\n",
       "\n",
       "    .dataframe tbody tr th {\n",
       "        vertical-align: top;\n",
       "    }\n",
       "\n",
       "    .dataframe thead th {\n",
       "        text-align: right;\n",
       "    }\n",
       "</style>\n",
       "<table border=\"1\" class=\"dataframe\">\n",
       "  <thead>\n",
       "    <tr style=\"text-align: right;\">\n",
       "      <th></th>\n",
       "      <th>pl_name</th>\n",
       "      <th>hostname</th>\n",
       "      <th>pl_orbper</th>\n",
       "      <th>pl_orbsmax</th>\n",
       "      <th>pl_rade</th>\n",
       "      <th>pl_masse</th>\n",
       "      <th>pl_orbeccen</th>\n",
       "      <th>pl_eqt</th>\n",
       "    </tr>\n",
       "  </thead>\n",
       "  <tbody>\n",
       "    <tr>\n",
       "      <th>103</th>\n",
       "      <td>55 Cnc e</td>\n",
       "      <td>55 Cnc</td>\n",
       "      <td>0.736544</td>\n",
       "      <td>0.01544</td>\n",
       "      <td>2.080</td>\n",
       "      <td>7.8100</td>\n",
       "      <td>0.061</td>\n",
       "      <td>1958.0</td>\n",
       "    </tr>\n",
       "    <tr>\n",
       "      <th>205</th>\n",
       "      <td>CoRoT-1 b</td>\n",
       "      <td>CoRoT-1</td>\n",
       "      <td>1.508977</td>\n",
       "      <td>0.02590</td>\n",
       "      <td>15.917</td>\n",
       "      <td>340.0781</td>\n",
       "      <td>0.071</td>\n",
       "      <td>1834.0</td>\n",
       "    </tr>\n",
       "    <tr>\n",
       "      <th>213</th>\n",
       "      <td>CoRoT-10 b</td>\n",
       "      <td>CoRoT-10</td>\n",
       "      <td>13.240600</td>\n",
       "      <td>0.10550</td>\n",
       "      <td>10.870</td>\n",
       "      <td>874.0000</td>\n",
       "      <td>0.530</td>\n",
       "      <td>600.0</td>\n",
       "    </tr>\n",
       "    <tr>\n",
       "      <th>222</th>\n",
       "      <td>CoRoT-12 b</td>\n",
       "      <td>CoRoT-12</td>\n",
       "      <td>2.828042</td>\n",
       "      <td>0.04016</td>\n",
       "      <td>16.140</td>\n",
       "      <td>291.4380</td>\n",
       "      <td>0.070</td>\n",
       "      <td>1442.0</td>\n",
       "    </tr>\n",
       "    <tr>\n",
       "      <th>248</th>\n",
       "      <td>CoRoT-19 b</td>\n",
       "      <td>CoRoT-19</td>\n",
       "      <td>3.897130</td>\n",
       "      <td>0.05180</td>\n",
       "      <td>14.460</td>\n",
       "      <td>352.7800</td>\n",
       "      <td>0.047</td>\n",
       "      <td>2000.0</td>\n",
       "    </tr>\n",
       "  </tbody>\n",
       "</table>\n",
       "</div>"
      ],
      "text/plain": [
       "        pl_name  hostname  pl_orbper  pl_orbsmax  pl_rade  pl_masse  \\\n",
       "103    55 Cnc e    55 Cnc   0.736544     0.01544    2.080    7.8100   \n",
       "205   CoRoT-1 b   CoRoT-1   1.508977     0.02590   15.917  340.0781   \n",
       "213  CoRoT-10 b  CoRoT-10  13.240600     0.10550   10.870  874.0000   \n",
       "222  CoRoT-12 b  CoRoT-12   2.828042     0.04016   16.140  291.4380   \n",
       "248  CoRoT-19 b  CoRoT-19   3.897130     0.05180   14.460  352.7800   \n",
       "\n",
       "     pl_orbeccen  pl_eqt  \n",
       "103        0.061  1958.0  \n",
       "205        0.071  1834.0  \n",
       "213        0.530   600.0  \n",
       "222        0.070  1442.0  \n",
       "248        0.047  2000.0  "
      ]
     },
     "execution_count": 4,
     "metadata": {},
     "output_type": "execute_result"
    }
   ],
   "source": [
    "### drop rows with null values ###\n",
    "df.dropna(inplace=True)\n",
    "\n",
    "### keep only relevant columns ###\n",
    "columns_to_keep = ['pl_name','hostname','pl_orbper','pl_orbsmax',\n",
    "                   'pl_rade','pl_masse','pl_orbeccen','pl_eqt']\n",
    "df = df[columns_to_keep]\n",
    "\n",
    "df.head()"
   ]
  },
  {
   "cell_type": "code",
   "execution_count": 5,
   "metadata": {},
   "outputs": [
    {
     "data": {
      "text/html": [
       "<div>\n",
       "<style scoped>\n",
       "    .dataframe tbody tr th:only-of-type {\n",
       "        vertical-align: middle;\n",
       "    }\n",
       "\n",
       "    .dataframe tbody tr th {\n",
       "        vertical-align: top;\n",
       "    }\n",
       "\n",
       "    .dataframe thead th {\n",
       "        text-align: right;\n",
       "    }\n",
       "</style>\n",
       "<table border=\"1\" class=\"dataframe\">\n",
       "  <thead>\n",
       "    <tr style=\"text-align: right;\">\n",
       "      <th></th>\n",
       "      <th>pl_name</th>\n",
       "      <th>hostname</th>\n",
       "      <th>pl_orbper</th>\n",
       "      <th>pl_orbsmax</th>\n",
       "      <th>pl_rade</th>\n",
       "      <th>pl_masse</th>\n",
       "      <th>pl_orbeccen</th>\n",
       "      <th>pl_eqt</th>\n",
       "    </tr>\n",
       "  </thead>\n",
       "  <tbody>\n",
       "    <tr>\n",
       "      <th>34703</th>\n",
       "      <td>WASP-89 b</td>\n",
       "      <td>WASP-89</td>\n",
       "      <td>3.356423</td>\n",
       "      <td>0.04270</td>\n",
       "      <td>11.657</td>\n",
       "      <td>1875.19700</td>\n",
       "      <td>0.1930</td>\n",
       "      <td>1120.0</td>\n",
       "    </tr>\n",
       "    <tr>\n",
       "      <th>34783</th>\n",
       "      <td>Wolf 503 b</td>\n",
       "      <td>Wolf 503</td>\n",
       "      <td>6.001270</td>\n",
       "      <td>0.05712</td>\n",
       "      <td>2.043</td>\n",
       "      <td>6.27000</td>\n",
       "      <td>0.4090</td>\n",
       "      <td>789.0</td>\n",
       "    </tr>\n",
       "    <tr>\n",
       "      <th>34785</th>\n",
       "      <td>Wolf 503 b</td>\n",
       "      <td>Wolf 503</td>\n",
       "      <td>6.001270</td>\n",
       "      <td>0.05706</td>\n",
       "      <td>2.043</td>\n",
       "      <td>6.26000</td>\n",
       "      <td>0.4100</td>\n",
       "      <td>790.0</td>\n",
       "    </tr>\n",
       "    <tr>\n",
       "      <th>34854</th>\n",
       "      <td>XO-7 b</td>\n",
       "      <td>XO-7</td>\n",
       "      <td>2.864142</td>\n",
       "      <td>0.04421</td>\n",
       "      <td>15.390</td>\n",
       "      <td>225.34147</td>\n",
       "      <td>0.0380</td>\n",
       "      <td>1743.0</td>\n",
       "    </tr>\n",
       "    <tr>\n",
       "      <th>328</th>\n",
       "      <td>Earth</td>\n",
       "      <td>Sol</td>\n",
       "      <td>365.000000</td>\n",
       "      <td>1.00000</td>\n",
       "      <td>1.000</td>\n",
       "      <td>1.00000</td>\n",
       "      <td>0.0167</td>\n",
       "      <td>255.0</td>\n",
       "    </tr>\n",
       "  </tbody>\n",
       "</table>\n",
       "</div>"
      ],
      "text/plain": [
       "          pl_name  hostname   pl_orbper  pl_orbsmax  pl_rade    pl_masse  \\\n",
       "34703   WASP-89 b   WASP-89    3.356423     0.04270   11.657  1875.19700   \n",
       "34783  Wolf 503 b  Wolf 503    6.001270     0.05712    2.043     6.27000   \n",
       "34785  Wolf 503 b  Wolf 503    6.001270     0.05706    2.043     6.26000   \n",
       "34854      XO-7 b      XO-7    2.864142     0.04421   15.390   225.34147   \n",
       "328         Earth       Sol  365.000000     1.00000    1.000     1.00000   \n",
       "\n",
       "       pl_orbeccen  pl_eqt  \n",
       "34703       0.1930  1120.0  \n",
       "34783       0.4090   789.0  \n",
       "34785       0.4100   790.0  \n",
       "34854       0.0380  1743.0  \n",
       "328         0.0167   255.0  "
      ]
     },
     "execution_count": 5,
     "metadata": {},
     "output_type": "execute_result"
    }
   ],
   "source": [
    "### new row of data for earth ###\n",
    "new_row = {'pl_name': 'Earth', 'hostname': 'Sol','pl_orbper': 365,'pl_orbsmax': 1, \n",
    "           'pl_rade': 1,'pl_masse': 1,'pl_orbeccen': 0.0167, 'pl_eqt': 255}\n",
    "\n",
    "### add the new row using the loc indexer ###\n",
    "df.loc[len(df)] = new_row\n",
    "\n",
    "df.tail()"
   ]
  },
  {
   "cell_type": "code",
   "execution_count": 6,
   "metadata": {},
   "outputs": [
    {
     "name": "stdout",
     "output_type": "stream",
     "text": [
      "<class 'pandas.core.frame.DataFrame'>\n",
      "Int64Index: 329 entries, 103 to 328\n",
      "Data columns (total 8 columns):\n",
      " #   Column       Non-Null Count  Dtype  \n",
      "---  ------       --------------  -----  \n",
      " 0   pl_name      329 non-null    object \n",
      " 1   hostname     329 non-null    object \n",
      " 2   pl_orbper    329 non-null    float64\n",
      " 3   pl_orbsmax   329 non-null    float64\n",
      " 4   pl_rade      329 non-null    float64\n",
      " 5   pl_masse     329 non-null    float64\n",
      " 6   pl_orbeccen  329 non-null    float64\n",
      " 7   pl_eqt       329 non-null    float64\n",
      "dtypes: float64(6), object(2)\n",
      "memory usage: 23.1+ KB\n"
     ]
    }
   ],
   "source": [
    "df.info()"
   ]
  },
  {
   "cell_type": "code",
   "execution_count": 7,
   "metadata": {},
   "outputs": [],
   "source": [
    "### select features for clustering and pca ###\n",
    "features = ['pl_orbper','pl_orbsmax','pl_rade','pl_masse','pl_orbeccen','pl_eqt']"
   ]
  },
  {
   "cell_type": "code",
   "execution_count": 8,
   "metadata": {},
   "outputs": [],
   "source": [
    "### standardize the data ###\n",
    "scaler = StandardScaler()\n",
    "scaled_data = scaler.fit_transform(df[features])"
   ]
  },
  {
   "cell_type": "code",
   "execution_count": 9,
   "metadata": {},
   "outputs": [],
   "source": [
    "### perform pca ###\n",
    "pca = PCA(n_components=6)\n",
    "pca_result = pca.fit_transform(scaled_data)"
   ]
  },
  {
   "cell_type": "code",
   "execution_count": 10,
   "metadata": {},
   "outputs": [],
   "source": [
    "### add pca results to the original dataframe ###\n",
    "df['PC1'] = pca_result[:, 0]\n",
    "df['PC2'] = pca_result[:, 1]"
   ]
  },
  {
   "cell_type": "code",
   "execution_count": 11,
   "metadata": {},
   "outputs": [
    {
     "data": {
      "text/html": [
       "<div>\n",
       "<style scoped>\n",
       "    .dataframe tbody tr th:only-of-type {\n",
       "        vertical-align: middle;\n",
       "    }\n",
       "\n",
       "    .dataframe tbody tr th {\n",
       "        vertical-align: top;\n",
       "    }\n",
       "\n",
       "    .dataframe thead th {\n",
       "        text-align: right;\n",
       "    }\n",
       "</style>\n",
       "<table border=\"1\" class=\"dataframe\">\n",
       "  <thead>\n",
       "    <tr style=\"text-align: right;\">\n",
       "      <th></th>\n",
       "      <th>pl_name</th>\n",
       "      <th>hostname</th>\n",
       "      <th>pl_orbper</th>\n",
       "      <th>pl_orbsmax</th>\n",
       "      <th>pl_rade</th>\n",
       "      <th>pl_masse</th>\n",
       "      <th>pl_orbeccen</th>\n",
       "      <th>pl_eqt</th>\n",
       "      <th>PC1</th>\n",
       "      <th>PC2</th>\n",
       "    </tr>\n",
       "  </thead>\n",
       "  <tbody>\n",
       "    <tr>\n",
       "      <th>34703</th>\n",
       "      <td>WASP-89 b</td>\n",
       "      <td>WASP-89</td>\n",
       "      <td>3.356423</td>\n",
       "      <td>0.04270</td>\n",
       "      <td>11.657</td>\n",
       "      <td>1875.19700</td>\n",
       "      <td>0.1930</td>\n",
       "      <td>1120.0</td>\n",
       "      <td>0.855620</td>\n",
       "      <td>-0.361257</td>\n",
       "    </tr>\n",
       "    <tr>\n",
       "      <th>34783</th>\n",
       "      <td>Wolf 503 b</td>\n",
       "      <td>Wolf 503</td>\n",
       "      <td>6.001270</td>\n",
       "      <td>0.05712</td>\n",
       "      <td>2.043</td>\n",
       "      <td>6.27000</td>\n",
       "      <td>0.4090</td>\n",
       "      <td>789.0</td>\n",
       "      <td>-0.512051</td>\n",
       "      <td>1.559456</td>\n",
       "    </tr>\n",
       "    <tr>\n",
       "      <th>34785</th>\n",
       "      <td>Wolf 503 b</td>\n",
       "      <td>Wolf 503</td>\n",
       "      <td>6.001270</td>\n",
       "      <td>0.05706</td>\n",
       "      <td>2.043</td>\n",
       "      <td>6.26000</td>\n",
       "      <td>0.4100</td>\n",
       "      <td>790.0</td>\n",
       "      <td>-0.510312</td>\n",
       "      <td>1.560056</td>\n",
       "    </tr>\n",
       "    <tr>\n",
       "      <th>34854</th>\n",
       "      <td>XO-7 b</td>\n",
       "      <td>XO-7</td>\n",
       "      <td>2.864142</td>\n",
       "      <td>0.04421</td>\n",
       "      <td>15.390</td>\n",
       "      <td>225.34147</td>\n",
       "      <td>0.0380</td>\n",
       "      <td>1743.0</td>\n",
       "      <td>0.435594</td>\n",
       "      <td>-1.828709</td>\n",
       "    </tr>\n",
       "    <tr>\n",
       "      <th>328</th>\n",
       "      <td>Earth</td>\n",
       "      <td>Sol</td>\n",
       "      <td>365.000000</td>\n",
       "      <td>1.00000</td>\n",
       "      <td>1.000</td>\n",
       "      <td>1.00000</td>\n",
       "      <td>0.0167</td>\n",
       "      <td>255.0</td>\n",
       "      <td>-0.982863</td>\n",
       "      <td>1.822467</td>\n",
       "    </tr>\n",
       "  </tbody>\n",
       "</table>\n",
       "</div>"
      ],
      "text/plain": [
       "          pl_name  hostname   pl_orbper  pl_orbsmax  pl_rade    pl_masse  \\\n",
       "34703   WASP-89 b   WASP-89    3.356423     0.04270   11.657  1875.19700   \n",
       "34783  Wolf 503 b  Wolf 503    6.001270     0.05712    2.043     6.27000   \n",
       "34785  Wolf 503 b  Wolf 503    6.001270     0.05706    2.043     6.26000   \n",
       "34854      XO-7 b      XO-7    2.864142     0.04421   15.390   225.34147   \n",
       "328         Earth       Sol  365.000000     1.00000    1.000     1.00000   \n",
       "\n",
       "       pl_orbeccen  pl_eqt       PC1       PC2  \n",
       "34703       0.1930  1120.0  0.855620 -0.361257  \n",
       "34783       0.4090   789.0 -0.512051  1.559456  \n",
       "34785       0.4100   790.0 -0.510312  1.560056  \n",
       "34854       0.0380  1743.0  0.435594 -1.828709  \n",
       "328         0.0167   255.0 -0.982863  1.822467  "
      ]
     },
     "execution_count": 11,
     "metadata": {},
     "output_type": "execute_result"
    }
   ],
   "source": [
    "df.tail()"
   ]
  },
  {
   "cell_type": "code",
   "execution_count": 12,
   "metadata": {},
   "outputs": [
    {
     "data": {
      "application/vnd.plotly.v1+json": {
       "config": {
        "plotlyServerURL": "https://plot.ly"
       },
       "data": [
        {
         "hovertemplate": "Principal Component=%{x}<br>Variance Explained=%{y}<extra></extra>",
         "legendgroup": "",
         "line": {
          "color": "blue",
          "dash": "solid",
          "width": 2
         },
         "marker": {
          "symbol": "circle"
         },
         "mode": "markers+lines",
         "name": "",
         "orientation": "v",
         "showlegend": false,
         "type": "scatter",
         "x": [
          1,
          2,
          3,
          4,
          5,
          6
         ],
         "xaxis": "x",
         "y": [
          0.44611392083928636,
          0.2558094614292435,
          0.1687482626290135,
          0.07510377176101309,
          0.052921321717301045,
          0.0013032616241424229
         ],
         "yaxis": "y"
        }
       ],
       "layout": {
        "legend": {
         "tracegroupgap": 0
        },
        "template": {
         "data": {
          "bar": [
           {
            "error_x": {
             "color": "#2a3f5f"
            },
            "error_y": {
             "color": "#2a3f5f"
            },
            "marker": {
             "line": {
              "color": "#E5ECF6",
              "width": 0.5
             },
             "pattern": {
              "fillmode": "overlay",
              "size": 10,
              "solidity": 0.2
             }
            },
            "type": "bar"
           }
          ],
          "barpolar": [
           {
            "marker": {
             "line": {
              "color": "#E5ECF6",
              "width": 0.5
             },
             "pattern": {
              "fillmode": "overlay",
              "size": 10,
              "solidity": 0.2
             }
            },
            "type": "barpolar"
           }
          ],
          "carpet": [
           {
            "aaxis": {
             "endlinecolor": "#2a3f5f",
             "gridcolor": "white",
             "linecolor": "white",
             "minorgridcolor": "white",
             "startlinecolor": "#2a3f5f"
            },
            "baxis": {
             "endlinecolor": "#2a3f5f",
             "gridcolor": "white",
             "linecolor": "white",
             "minorgridcolor": "white",
             "startlinecolor": "#2a3f5f"
            },
            "type": "carpet"
           }
          ],
          "choropleth": [
           {
            "colorbar": {
             "outlinewidth": 0,
             "ticks": ""
            },
            "type": "choropleth"
           }
          ],
          "contour": [
           {
            "colorbar": {
             "outlinewidth": 0,
             "ticks": ""
            },
            "colorscale": [
             [
              0,
              "#0d0887"
             ],
             [
              0.1111111111111111,
              "#46039f"
             ],
             [
              0.2222222222222222,
              "#7201a8"
             ],
             [
              0.3333333333333333,
              "#9c179e"
             ],
             [
              0.4444444444444444,
              "#bd3786"
             ],
             [
              0.5555555555555556,
              "#d8576b"
             ],
             [
              0.6666666666666666,
              "#ed7953"
             ],
             [
              0.7777777777777778,
              "#fb9f3a"
             ],
             [
              0.8888888888888888,
              "#fdca26"
             ],
             [
              1,
              "#f0f921"
             ]
            ],
            "type": "contour"
           }
          ],
          "contourcarpet": [
           {
            "colorbar": {
             "outlinewidth": 0,
             "ticks": ""
            },
            "type": "contourcarpet"
           }
          ],
          "heatmap": [
           {
            "colorbar": {
             "outlinewidth": 0,
             "ticks": ""
            },
            "colorscale": [
             [
              0,
              "#0d0887"
             ],
             [
              0.1111111111111111,
              "#46039f"
             ],
             [
              0.2222222222222222,
              "#7201a8"
             ],
             [
              0.3333333333333333,
              "#9c179e"
             ],
             [
              0.4444444444444444,
              "#bd3786"
             ],
             [
              0.5555555555555556,
              "#d8576b"
             ],
             [
              0.6666666666666666,
              "#ed7953"
             ],
             [
              0.7777777777777778,
              "#fb9f3a"
             ],
             [
              0.8888888888888888,
              "#fdca26"
             ],
             [
              1,
              "#f0f921"
             ]
            ],
            "type": "heatmap"
           }
          ],
          "heatmapgl": [
           {
            "colorbar": {
             "outlinewidth": 0,
             "ticks": ""
            },
            "colorscale": [
             [
              0,
              "#0d0887"
             ],
             [
              0.1111111111111111,
              "#46039f"
             ],
             [
              0.2222222222222222,
              "#7201a8"
             ],
             [
              0.3333333333333333,
              "#9c179e"
             ],
             [
              0.4444444444444444,
              "#bd3786"
             ],
             [
              0.5555555555555556,
              "#d8576b"
             ],
             [
              0.6666666666666666,
              "#ed7953"
             ],
             [
              0.7777777777777778,
              "#fb9f3a"
             ],
             [
              0.8888888888888888,
              "#fdca26"
             ],
             [
              1,
              "#f0f921"
             ]
            ],
            "type": "heatmapgl"
           }
          ],
          "histogram": [
           {
            "marker": {
             "pattern": {
              "fillmode": "overlay",
              "size": 10,
              "solidity": 0.2
             }
            },
            "type": "histogram"
           }
          ],
          "histogram2d": [
           {
            "colorbar": {
             "outlinewidth": 0,
             "ticks": ""
            },
            "colorscale": [
             [
              0,
              "#0d0887"
             ],
             [
              0.1111111111111111,
              "#46039f"
             ],
             [
              0.2222222222222222,
              "#7201a8"
             ],
             [
              0.3333333333333333,
              "#9c179e"
             ],
             [
              0.4444444444444444,
              "#bd3786"
             ],
             [
              0.5555555555555556,
              "#d8576b"
             ],
             [
              0.6666666666666666,
              "#ed7953"
             ],
             [
              0.7777777777777778,
              "#fb9f3a"
             ],
             [
              0.8888888888888888,
              "#fdca26"
             ],
             [
              1,
              "#f0f921"
             ]
            ],
            "type": "histogram2d"
           }
          ],
          "histogram2dcontour": [
           {
            "colorbar": {
             "outlinewidth": 0,
             "ticks": ""
            },
            "colorscale": [
             [
              0,
              "#0d0887"
             ],
             [
              0.1111111111111111,
              "#46039f"
             ],
             [
              0.2222222222222222,
              "#7201a8"
             ],
             [
              0.3333333333333333,
              "#9c179e"
             ],
             [
              0.4444444444444444,
              "#bd3786"
             ],
             [
              0.5555555555555556,
              "#d8576b"
             ],
             [
              0.6666666666666666,
              "#ed7953"
             ],
             [
              0.7777777777777778,
              "#fb9f3a"
             ],
             [
              0.8888888888888888,
              "#fdca26"
             ],
             [
              1,
              "#f0f921"
             ]
            ],
            "type": "histogram2dcontour"
           }
          ],
          "mesh3d": [
           {
            "colorbar": {
             "outlinewidth": 0,
             "ticks": ""
            },
            "type": "mesh3d"
           }
          ],
          "parcoords": [
           {
            "line": {
             "colorbar": {
              "outlinewidth": 0,
              "ticks": ""
             }
            },
            "type": "parcoords"
           }
          ],
          "pie": [
           {
            "automargin": true,
            "type": "pie"
           }
          ],
          "scatter": [
           {
            "fillpattern": {
             "fillmode": "overlay",
             "size": 10,
             "solidity": 0.2
            },
            "type": "scatter"
           }
          ],
          "scatter3d": [
           {
            "line": {
             "colorbar": {
              "outlinewidth": 0,
              "ticks": ""
             }
            },
            "marker": {
             "colorbar": {
              "outlinewidth": 0,
              "ticks": ""
             }
            },
            "type": "scatter3d"
           }
          ],
          "scattercarpet": [
           {
            "marker": {
             "colorbar": {
              "outlinewidth": 0,
              "ticks": ""
             }
            },
            "type": "scattercarpet"
           }
          ],
          "scattergeo": [
           {
            "marker": {
             "colorbar": {
              "outlinewidth": 0,
              "ticks": ""
             }
            },
            "type": "scattergeo"
           }
          ],
          "scattergl": [
           {
            "marker": {
             "colorbar": {
              "outlinewidth": 0,
              "ticks": ""
             }
            },
            "type": "scattergl"
           }
          ],
          "scattermapbox": [
           {
            "marker": {
             "colorbar": {
              "outlinewidth": 0,
              "ticks": ""
             }
            },
            "type": "scattermapbox"
           }
          ],
          "scatterpolar": [
           {
            "marker": {
             "colorbar": {
              "outlinewidth": 0,
              "ticks": ""
             }
            },
            "type": "scatterpolar"
           }
          ],
          "scatterpolargl": [
           {
            "marker": {
             "colorbar": {
              "outlinewidth": 0,
              "ticks": ""
             }
            },
            "type": "scatterpolargl"
           }
          ],
          "scatterternary": [
           {
            "marker": {
             "colorbar": {
              "outlinewidth": 0,
              "ticks": ""
             }
            },
            "type": "scatterternary"
           }
          ],
          "surface": [
           {
            "colorbar": {
             "outlinewidth": 0,
             "ticks": ""
            },
            "colorscale": [
             [
              0,
              "#0d0887"
             ],
             [
              0.1111111111111111,
              "#46039f"
             ],
             [
              0.2222222222222222,
              "#7201a8"
             ],
             [
              0.3333333333333333,
              "#9c179e"
             ],
             [
              0.4444444444444444,
              "#bd3786"
             ],
             [
              0.5555555555555556,
              "#d8576b"
             ],
             [
              0.6666666666666666,
              "#ed7953"
             ],
             [
              0.7777777777777778,
              "#fb9f3a"
             ],
             [
              0.8888888888888888,
              "#fdca26"
             ],
             [
              1,
              "#f0f921"
             ]
            ],
            "type": "surface"
           }
          ],
          "table": [
           {
            "cells": {
             "fill": {
              "color": "#EBF0F8"
             },
             "line": {
              "color": "white"
             }
            },
            "header": {
             "fill": {
              "color": "#C8D4E3"
             },
             "line": {
              "color": "white"
             }
            },
            "type": "table"
           }
          ]
         },
         "layout": {
          "annotationdefaults": {
           "arrowcolor": "#2a3f5f",
           "arrowhead": 0,
           "arrowwidth": 1
          },
          "autotypenumbers": "strict",
          "coloraxis": {
           "colorbar": {
            "outlinewidth": 0,
            "ticks": ""
           }
          },
          "colorscale": {
           "diverging": [
            [
             0,
             "#8e0152"
            ],
            [
             0.1,
             "#c51b7d"
            ],
            [
             0.2,
             "#de77ae"
            ],
            [
             0.3,
             "#f1b6da"
            ],
            [
             0.4,
             "#fde0ef"
            ],
            [
             0.5,
             "#f7f7f7"
            ],
            [
             0.6,
             "#e6f5d0"
            ],
            [
             0.7,
             "#b8e186"
            ],
            [
             0.8,
             "#7fbc41"
            ],
            [
             0.9,
             "#4d9221"
            ],
            [
             1,
             "#276419"
            ]
           ],
           "sequential": [
            [
             0,
             "#0d0887"
            ],
            [
             0.1111111111111111,
             "#46039f"
            ],
            [
             0.2222222222222222,
             "#7201a8"
            ],
            [
             0.3333333333333333,
             "#9c179e"
            ],
            [
             0.4444444444444444,
             "#bd3786"
            ],
            [
             0.5555555555555556,
             "#d8576b"
            ],
            [
             0.6666666666666666,
             "#ed7953"
            ],
            [
             0.7777777777777778,
             "#fb9f3a"
            ],
            [
             0.8888888888888888,
             "#fdca26"
            ],
            [
             1,
             "#f0f921"
            ]
           ],
           "sequentialminus": [
            [
             0,
             "#0d0887"
            ],
            [
             0.1111111111111111,
             "#46039f"
            ],
            [
             0.2222222222222222,
             "#7201a8"
            ],
            [
             0.3333333333333333,
             "#9c179e"
            ],
            [
             0.4444444444444444,
             "#bd3786"
            ],
            [
             0.5555555555555556,
             "#d8576b"
            ],
            [
             0.6666666666666666,
             "#ed7953"
            ],
            [
             0.7777777777777778,
             "#fb9f3a"
            ],
            [
             0.8888888888888888,
             "#fdca26"
            ],
            [
             1,
             "#f0f921"
            ]
           ]
          },
          "colorway": [
           "#636efa",
           "#EF553B",
           "#00cc96",
           "#ab63fa",
           "#FFA15A",
           "#19d3f3",
           "#FF6692",
           "#B6E880",
           "#FF97FF",
           "#FECB52"
          ],
          "font": {
           "color": "#2a3f5f"
          },
          "geo": {
           "bgcolor": "white",
           "lakecolor": "white",
           "landcolor": "#E5ECF6",
           "showlakes": true,
           "showland": true,
           "subunitcolor": "white"
          },
          "hoverlabel": {
           "align": "left"
          },
          "hovermode": "closest",
          "mapbox": {
           "style": "light"
          },
          "paper_bgcolor": "white",
          "plot_bgcolor": "#E5ECF6",
          "polar": {
           "angularaxis": {
            "gridcolor": "white",
            "linecolor": "white",
            "ticks": ""
           },
           "bgcolor": "#E5ECF6",
           "radialaxis": {
            "gridcolor": "white",
            "linecolor": "white",
            "ticks": ""
           }
          },
          "scene": {
           "xaxis": {
            "backgroundcolor": "#E5ECF6",
            "gridcolor": "white",
            "gridwidth": 2,
            "linecolor": "white",
            "showbackground": true,
            "ticks": "",
            "zerolinecolor": "white"
           },
           "yaxis": {
            "backgroundcolor": "#E5ECF6",
            "gridcolor": "white",
            "gridwidth": 2,
            "linecolor": "white",
            "showbackground": true,
            "ticks": "",
            "zerolinecolor": "white"
           },
           "zaxis": {
            "backgroundcolor": "#E5ECF6",
            "gridcolor": "white",
            "gridwidth": 2,
            "linecolor": "white",
            "showbackground": true,
            "ticks": "",
            "zerolinecolor": "white"
           }
          },
          "shapedefaults": {
           "line": {
            "color": "#2a3f5f"
           }
          },
          "ternary": {
           "aaxis": {
            "gridcolor": "white",
            "linecolor": "white",
            "ticks": ""
           },
           "baxis": {
            "gridcolor": "white",
            "linecolor": "white",
            "ticks": ""
           },
           "bgcolor": "#E5ECF6",
           "caxis": {
            "gridcolor": "white",
            "linecolor": "white",
            "ticks": ""
           }
          },
          "title": {
           "x": 0.05
          },
          "xaxis": {
           "automargin": true,
           "gridcolor": "white",
           "linecolor": "white",
           "ticks": "",
           "title": {
            "standoff": 15
           },
           "zerolinecolor": "white",
           "zerolinewidth": 2
          },
          "yaxis": {
           "automargin": true,
           "gridcolor": "white",
           "linecolor": "white",
           "ticks": "",
           "title": {
            "standoff": 15
           },
           "zerolinecolor": "white",
           "zerolinewidth": 2
          }
         }
        },
        "title": {
         "text": "Scree Plot"
        },
        "xaxis": {
         "anchor": "y",
         "domain": [
          0,
          1
         ],
         "title": {
          "text": "Principal Component"
         }
        },
        "yaxis": {
         "anchor": "x",
         "domain": [
          0,
          1
         ],
         "title": {
          "text": "Variance Explained"
         }
        }
       }
      }
     },
     "metadata": {},
     "output_type": "display_data"
    }
   ],
   "source": [
    "### scree with plotly ###\n",
    "pc_values = np.arange(pca.n_components_) + 1\n",
    "\n",
    "fig = px.line(x=pc_values, y=pca.explained_variance_ratio_, markers=True, \n",
    "              title='Scree Plot', labels={'x': 'Principal Component', 'y': 'Variance Explained'})\n",
    "fig.update_traces(line=dict(color='blue', width=2))\n",
    "\n",
    "fig.show()"
   ]
  },
  {
   "cell_type": "code",
   "execution_count": 13,
   "metadata": {},
   "outputs": [
    {
     "name": "stdout",
     "output_type": "stream",
     "text": [
      "[0.44611392 0.25580946 0.16874826 0.07510377 0.05292132 0.00130326]\n"
     ]
    }
   ],
   "source": [
    "print(pca.explained_variance_ratio_)"
   ]
  },
  {
   "cell_type": "code",
   "execution_count": 14,
   "metadata": {},
   "outputs": [
    {
     "name": "stdout",
     "output_type": "stream",
     "text": [
      "[0.44611392 0.70192338 0.87067164 0.94577542 0.99869674 1.        ]\n"
     ]
    }
   ],
   "source": [
    "### calculate cumulative explained variance ###\n",
    "cumulative_explained_variance = np.cumsum(pca.explained_variance_ratio_)\n",
    "\n",
    "print(cumulative_explained_variance)"
   ]
  },
  {
   "cell_type": "code",
   "execution_count": 15,
   "metadata": {},
   "outputs": [
    {
     "name": "stdout",
     "output_type": "stream",
     "text": [
      "For n_clusters = 2 The average silhouette_score is : 0.5318041858857563\n",
      "For n_clusters = 3 The average silhouette_score is : 0.546039188889465\n",
      "For n_clusters = 4 The average silhouette_score is : 0.5562891187374129\n",
      "For n_clusters = 5 The average silhouette_score is : 0.48258324553568516\n",
      "For n_clusters = 6 The average silhouette_score is : 0.40369348053424686\n"
     ]
    },
    {
     "data": {
      "image/png": "[encoded data removed]",
      "text/plain": [
       "<Figure size 1296x504 with 2 Axes>"
      ]
     },
     "metadata": {
      "needs_background": "light"
     },
     "output_type": "display_data"
    },
    {
     "data": {
      "image/png": "[encoded data removed]",
      "text/plain": [
       "<Figure size 1296x504 with 2 Axes>"
      ]
     },
     "metadata": {
      "needs_background": "light"
     },
     "output_type": "display_data"
    },
    {
     "data": {
      "image/png": "[encoded data removed]",
      "text/plain": [
       "<Figure size 1296x504 with 2 Axes>"
      ]
     },
     "metadata": {
      "needs_background": "light"
     },
     "output_type": "display_data"
    },
    {
     "data": {
      "image/png": "[encoded data removed]",
      "text/plain": [
       "<Figure size 1296x504 with 2 Axes>"
      ]
     },
     "metadata": {
      "needs_background": "light"
     },
     "output_type": "display_data"
    },
    {
     "data": {
      "image/png": "[encoded data removed]",
      "text/plain": [
       "<Figure size 1296x504 with 2 Axes>"
      ]
     },
     "metadata": {
      "needs_background": "light"
     },
     "output_type": "display_data"
    }
   ],
   "source": [
    "### silhouette ###\n",
    "range_n_clusters = [2, 3, 4, 5, 6]\n",
    "\n",
    "X = np.array(df)[:, -2:]\n",
    "\n",
    "for n_clusters in range_n_clusters:\n",
    "    ### create a subplot with 1 row and 2 columns ###\n",
    "    fig, (ax1, ax2) = plt.subplots(1, 2)\n",
    "    fig.set_size_inches(18, 7)\n",
    "\n",
    "    ### the 1st subplot is the silhouette plot ###\n",
    "    ### the silhouette coefficient can range from -1, 1 but in this example all ###\n",
    "    ### lie within [-0.22, 1] ###\n",
    "    ax1.set_xlim([-0.22, 1])\n",
    "    ### the (n_clusters+1)*10 is for inserting blank space between silhouette ###\n",
    "    ### plots of individual clusters, to demarcate them clearly ###\n",
    "    ax1.set_ylim([0, len(X) + (n_clusters + 1) * 10])\n",
    "\n",
    "    ### initialize the clusterer with n_clusters value and a random generator ###\n",
    "    ### seed of 10 for reproducibility ###\n",
    "    clusterer = KMeans(n_clusters=n_clusters, n_init=\"auto\", random_state=10)\n",
    "    cluster_labels = clusterer.fit_predict(X)\n",
    "\n",
    "    ### the silhouette_score gives the average value for all the samples ###\n",
    "    ### this gives a perspective into the density and separation of the formed ###\n",
    "    ### clusters ###\n",
    "    silhouette_avg = silhouette_score(X, cluster_labels)\n",
    "    print(\n",
    "        \"For n_clusters =\",\n",
    "        n_clusters,\n",
    "        \"The average silhouette_score is :\",\n",
    "        silhouette_avg,\n",
    "    )\n",
    "\n",
    "    ### compute the silhouette scores for each sample ###\n",
    "    sample_silhouette_values = silhouette_samples(X, cluster_labels)\n",
    "\n",
    "    y_lower = 10\n",
    "    for i in range(n_clusters):\n",
    "        ### aggregate the silhouette scores for samples belonging to ###\n",
    "        ### cluster i, and sort them ###\n",
    "        ith_cluster_silhouette_values = sample_silhouette_values[cluster_labels == i]\n",
    "\n",
    "        ith_cluster_silhouette_values.sort()\n",
    "\n",
    "        size_cluster_i = ith_cluster_silhouette_values.shape[0]\n",
    "        y_upper = y_lower + size_cluster_i\n",
    "\n",
    "        color = cm.nipy_spectral(float(i) / n_clusters)\n",
    "        ax1.fill_betweenx(\n",
    "            np.arange(y_lower, y_upper),\n",
    "            0,\n",
    "            ith_cluster_silhouette_values,\n",
    "            facecolor=color,\n",
    "            edgecolor=color,\n",
    "            alpha=0.7,\n",
    "        )\n",
    "\n",
    "        ### label the silhouette plots with their cluster numbers at the middle ###\n",
    "        ax1.text(-0.05, y_lower + 0.5 * size_cluster_i, str(i))\n",
    "\n",
    "        ### compute the new y_lower for next plot ###\n",
    "        y_lower = y_upper + 10  ### 10 for the 0 samples ###\n",
    "\n",
    "    ax1.set_title(\"The silhouette plot for the various clusters.\")\n",
    "    ax1.set_xlabel(\"The silhouette coefficient values\")\n",
    "    ax1.set_ylabel(\"Cluster label\")\n",
    "\n",
    "    ### the vertical line for average silhouette score of all the values ###\n",
    "    ax1.axvline(x=silhouette_avg, color=\"red\", linestyle=\"--\")\n",
    "\n",
    "    ax1.set_yticks([])  ### clear the yaxis labels / ticks ###\n",
    "    ax1.set_xticks([-0.1, 0, 0.2, 0.4, 0.6, 0.8, 1])\n",
    "\n",
    "    ### 2nd plot showing the actual clusters formed ###\n",
    "    colors = cm.nipy_spectral(cluster_labels.astype(float) / n_clusters)\n",
    "    ax2.scatter(\n",
    "        X[:, 0], X[:, 1], marker=\".\", s=30, lw=0, alpha=0.7, c=colors, edgecolor=\"k\"\n",
    "    )\n",
    "\n",
    "    ### labeling the clusters ###\n",
    "    centers = clusterer.cluster_centers_\n",
    "    ### draw white circles at cluster centers ###\n",
    "    ax2.scatter(\n",
    "        centers[:, 0],\n",
    "        centers[:, 1],\n",
    "        marker=\"o\",\n",
    "        c=\"white\",\n",
    "        alpha=1,\n",
    "        s=200,\n",
    "        edgecolor=\"k\",\n",
    "    )\n",
    "\n",
    "    for i, c in enumerate(centers):\n",
    "        ax2.scatter(c[0], c[1], marker=\"$%d$\" % i, alpha=1, s=50, edgecolor=\"k\")\n",
    "\n",
    "    ax2.set_title(\"The visualization of the clustered data.\")\n",
    "    ax2.set_xlabel(\"Feature space for the 1st feature\")\n",
    "    ax2.set_ylabel(\"Feature space for the 2nd feature\")\n",
    "\n",
    "    plt.suptitle(\n",
    "        \"Silhouette analysis for KMeans clustering on sample data with n_clusters = %d\"\n",
    "        % n_clusters,\n",
    "        fontsize=14,\n",
    "        fontweight=\"bold\",\n",
    "    )\n",
    "\n",
    "plt.show()"
   ]
  },
  {
   "cell_type": "code",
   "execution_count": 16,
   "metadata": {},
   "outputs": [
    {
     "data": {
      "text/html": [
       "<style>#sk-container-id-1 {color: black;}#sk-container-id-1 pre{padding: 0;}#sk-container-id-1 div.sk-toggleable {background-color: white;}#sk-container-id-1 label.sk-toggleable__label {cursor: pointer;display: block;width: 100%;margin-bottom: 0;padding: 0.3em;box-sizing: border-box;text-align: center;}#sk-container-id-1 label.sk-toggleable__label-arrow:before {content: \"▸\";float: left;margin-right: 0.25em;color: #696969;}#sk-container-id-1 label.sk-toggleable__label-arrow:hover:before {color: black;}#sk-container-id-1 div.sk-estimator:hover label.sk-toggleable__label-arrow:before {color: black;}#sk-container-id-1 div.sk-toggleable__content {max-height: 0;max-width: 0;overflow: hidden;text-align: left;background-color: #f0f8ff;}#sk-container-id-1 div.sk-toggleable__content pre {margin: 0.2em;color: black;border-radius: 0.25em;background-color: #f0f8ff;}#sk-container-id-1 input.sk-toggleable__control:checked~div.sk-toggleable__content {max-height: 200px;max-width: 100%;overflow: auto;}#sk-container-id-1 input.sk-toggleable__control:checked~label.sk-toggleable__label-arrow:before {content: \"▾\";}#sk-container-id-1 div.sk-estimator input.sk-toggleable__control:checked~label.sk-toggleable__label {background-color: #d4ebff;}#sk-container-id-1 div.sk-label input.sk-toggleable__control:checked~label.sk-toggleable__label {background-color: #d4ebff;}#sk-container-id-1 input.sk-hidden--visually {border: 0;clip: rect(1px 1px 1px 1px);clip: rect(1px, 1px, 1px, 1px);height: 1px;margin: -1px;overflow: hidden;padding: 0;position: absolute;width: 1px;}#sk-container-id-1 div.sk-estimator {font-family: monospace;background-color: #f0f8ff;border: 1px dotted black;border-radius: 0.25em;box-sizing: border-box;margin-bottom: 0.5em;}#sk-container-id-1 div.sk-estimator:hover {background-color: #d4ebff;}#sk-container-id-1 div.sk-parallel-item::after {content: \"\";width: 100%;border-bottom: 1px solid gray;flex-grow: 1;}#sk-container-id-1 div.sk-label:hover label.sk-toggleable__label {background-color: #d4ebff;}#sk-container-id-1 div.sk-serial::before {content: \"\";position: absolute;border-left: 1px solid gray;box-sizing: border-box;top: 0;bottom: 0;left: 50%;z-index: 0;}#sk-container-id-1 div.sk-serial {display: flex;flex-direction: column;align-items: center;background-color: white;padding-right: 0.2em;padding-left: 0.2em;position: relative;}#sk-container-id-1 div.sk-item {position: relative;z-index: 1;}#sk-container-id-1 div.sk-parallel {display: flex;align-items: stretch;justify-content: center;background-color: white;position: relative;}#sk-container-id-1 div.sk-item::before, #sk-container-id-1 div.sk-parallel-item::before {content: \"\";position: absolute;border-left: 1px solid gray;box-sizing: border-box;top: 0;bottom: 0;left: 50%;z-index: -1;}#sk-container-id-1 div.sk-parallel-item {display: flex;flex-direction: column;z-index: 1;position: relative;background-color: white;}#sk-container-id-1 div.sk-parallel-item:first-child::after {align-self: flex-end;width: 50%;}#sk-container-id-1 div.sk-parallel-item:last-child::after {align-self: flex-start;width: 50%;}#sk-container-id-1 div.sk-parallel-item:only-child::after {width: 0;}#sk-container-id-1 div.sk-dashed-wrapped {border: 1px dashed gray;margin: 0 0.4em 0.5em 0.4em;box-sizing: border-box;padding-bottom: 0.4em;background-color: white;}#sk-container-id-1 div.sk-label label {font-family: monospace;font-weight: bold;display: inline-block;line-height: 1.2em;}#sk-container-id-1 div.sk-label-container {text-align: center;}#sk-container-id-1 div.sk-container {/* jupyter's `normalize.less` sets `[hidden] { display: none; }` but bootstrap.min.css set `[hidden] { display: none !important; }` so we also need the `!important` here to be able to override the default hidden behavior on the sphinx rendered scikit-learn.org. See: https://github.com/scikit-learn/scikit-learn/issues/21755 */display: inline-block !important;position: relative;}#sk-container-id-1 div.sk-text-repr-fallback {display: none;}</style><div id=\"sk-container-id-1\" class=\"sk-top-container\"><div class=\"sk-text-repr-fallback\"><pre>KMeans(n_clusters=6, random_state=42)</pre><b>In a Jupyter environment, please rerun this cell to show the HTML representation or trust the notebook. <br />On GitHub, the HTML representation is unable to render, please try loading this page with nbviewer.org.</b></div><div class=\"sk-container\" hidden><div class=\"sk-item\"><div class=\"sk-estimator sk-toggleable\"><input class=\"sk-toggleable__control sk-hidden--visually\" id=\"sk-estimator-id-1\" type=\"checkbox\" checked><label for=\"sk-estimator-id-1\" class=\"sk-toggleable__label sk-toggleable__label-arrow\">KMeans</label><div class=\"sk-toggleable__content\"><pre>KMeans(n_clusters=6, random_state=42)</pre></div></div></div></div></div>"
      ],
      "text/plain": [
       "KMeans(n_clusters=6, random_state=42)"
      ]
     },
     "execution_count": 16,
     "metadata": {},
     "output_type": "execute_result"
    }
   ],
   "source": [
    "### number of clusters ###\n",
    "num_clusters = 6\n",
    "\n",
    "### initialize kmeans model ###\n",
    "kmeans = KMeans(n_clusters=num_clusters, random_state=42)\n",
    "\n",
    "### fit the model to main dataset ###\n",
    "kmeans.fit(df[features])"
   ]
  },
  {
   "cell_type": "code",
   "execution_count": 17,
   "metadata": {},
   "outputs": [],
   "source": [
    "### predict clusters ###\n",
    "df['cluster'] = kmeans.predict(df[features])"
   ]
  },
  {
   "cell_type": "code",
   "execution_count": 18,
   "metadata": {},
   "outputs": [
    {
     "data": {
      "application/vnd.plotly.v1+json": {
       "config": {
        "plotlyServerURL": "https://plot.ly"
       },
       "data": [
        {
         "hovertemplate": "PC1=%{x}<br>PC2=%{y}<br>cluster=%{marker.color}<extra></extra>",
         "legendgroup": "",
         "marker": {
          "color": [
           4,
           4,
           5,
           4,
           4,
           5,
           0,
           0,
           4,
           0,
           0,
           4,
           0,
           0,
           0,
           0,
           4,
           0,
           0,
           4,
           4,
           4,
           4,
           0,
           5,
           5,
           0,
           0,
           0,
           0,
           2,
           5,
           5,
           5,
           4,
           4,
           4,
           4,
           4,
           4,
           0,
           4,
           4,
           4,
           4,
           4,
           4,
           5,
           4,
           4,
           4,
           4,
           0,
           0,
           4,
           4,
           4,
           4,
           0,
           5,
           5,
           4,
           2,
           0,
           0,
           4,
           0,
           0,
           4,
           0,
           0,
           4,
           4,
           0,
           0,
           0,
           0,
           0,
           0,
           0,
           0,
           4,
           3,
           2,
           0,
           0,
           0,
           0,
           0,
           0,
           0,
           0,
           0,
           0,
           0,
           0,
           4,
           0,
           0,
           0,
           0,
           0,
           4,
           0,
           0,
           0,
           0,
           0,
           0,
           1,
           0,
           0,
           0,
           4,
           0,
           0,
           0,
           4,
           0,
           4,
           0,
           0,
           0,
           0,
           0,
           0,
           4,
           0,
           0,
           0,
           0,
           0,
           0,
           0,
           0,
           0,
           0,
           4,
           0,
           0,
           0,
           4,
           0,
           0,
           0,
           0,
           0,
           4,
           0,
           4,
           5,
           5,
           4,
           4,
           0,
           2,
           0,
           0,
           4,
           0,
           0,
           0,
           0,
           0,
           5,
           5,
           0,
           0,
           4,
           2,
           2,
           0,
           0,
           0,
           4,
           5,
           4,
           5,
           4,
           0,
           0,
           0,
           4,
           2,
           2,
           0,
           0,
           0,
           0,
           0,
           0,
           0,
           0,
           0,
           0,
           0,
           0,
           0,
           0,
           5,
           5,
           4,
           5,
           4,
           0,
           0,
           0,
           5,
           0,
           0,
           0,
           0,
           0,
           0,
           0,
           0,
           0,
           4,
           4,
           4,
           4,
           0,
           4,
           0,
           4,
           4,
           0,
           5,
           0,
           0,
           0,
           4,
           0,
           0,
           0,
           5,
           5,
           0,
           5,
           4,
           4,
           0,
           0,
           0,
           0,
           4,
           4,
           5,
           4,
           5,
           4,
           4,
           4,
           5,
           0,
           0,
           0,
           0,
           4,
           0,
           0,
           0,
           0,
           0,
           4,
           0,
           0,
           0,
           4,
           0,
           0,
           0,
           0,
           2,
           4,
           4,
           5,
           0,
           0,
           5,
           5,
           0,
           0,
           0,
           4,
           0,
           5,
           4,
           4,
           0,
           0,
           0,
           0,
           0,
           4,
           0,
           0,
           4,
           4,
           4,
           4,
           4,
           0,
           4,
           5,
           4,
           0,
           2,
           5,
           4,
           2,
           4,
           4,
           4,
           4,
           4,
           4,
           4,
           4,
           4,
           0,
           4,
           4,
           0,
           5,
           0,
           0,
           4,
           0
          ],
          "coloraxis": "coloraxis",
          "symbol": "circle"
         },
         "mode": "markers",
         "name": "",
         "orientation": "v",
         "showlegend": false,
         "type": "scatter",
         "x": [
          -0.3097935476302906,
          0.6050892213894778,
          0.47900949997403863,
          0.3847366308968243,
          0.595724594323137,
          0.8732572442595344,
          -0.6839157711628193,
          -0.07780138524732505,
          0.30761524644985816,
          -0.22218437936969365,
          -0.7563397348296936,
          -0.4941924779477757,
          -0.6918791076053739,
          -0.6788920222947297,
          -0.8928485365560838,
          -0.9876817980910285,
          -0.7207540930939754,
          -0.7585772444975502,
          -0.5556712626408115,
          0.5081359786855254,
          0.3271037788709057,
          0.5162370728686655,
          0.5289723947766918,
          0.1721990201391746,
          0.8430777440516447,
          0.7453445670206138,
          0.03837116476766707,
          -0.3148927039423797,
          -0.4437407785393959,
          -0.14854036645010757,
          2.04881716349268,
          0.7453252564850575,
          0.6464602716245091,
          0.6995065624662,
          0.18425848120758315,
          0.282475744606062,
          0.8887252101955752,
          0.3245790070059946,
          -0.006869362185714128,
          -0.06443938691693936,
          -0.49017856194211523,
          0.1376697328220781,
          0.08569965448691837,
          0.03747412246484156,
          0.34836249668612135,
          0.5553738552585732,
          1.023144951817779,
          1.0952555664187167,
          0.35897146185373424,
          0.6023681878469398,
          0.6758535611575289,
          0.14314517016709452,
          -0.312231683198087,
          -0.04071736164836014,
          0.4622661827511327,
          0.29715496635463473,
          0.4030345285122343,
          0.45411105735959917,
          -0.3466744879290715,
          0.039452918149065264,
          0.6004291625185599,
          0.03175593396332726,
          2.1770470282249836,
          0.004322312685773375,
          -0.3486676840989872,
          0.07010507082236656,
          -0.6611794314435251,
          -0.5176631515929405,
          -0.5875467665876136,
          -0.8674946383024983,
          -0.9478985893722338,
          0.1643150370240084,
          0.2681210383216985,
          -0.7060791717135197,
          -0.8095524846183296,
          -0.7992871555822767,
          -0.9843414371335693,
          -0.6811316486552556,
          -0.8332552597045115,
          -0.9626118670579906,
          -0.9994997921598959,
          0.809397751237101,
          9.253668440514685,
          3.948607057928229,
          -0.7399021339477653,
          -0.9873680909877424,
          -0.9675475698939073,
          -1.0055521546694337,
          -0.9862402434524269,
          -1.0373202323317303,
          -1.0823385367794474,
          -0.942295371715638,
          -1.0310993727862345,
          -1.0553225858468225,
          -1.0640322548704897,
          -1.1243252385153282,
          0.7913744261120748,
          -0.995963389019665,
          -0.41220896329562445,
          -0.7830985015141508,
          -0.8946074423972162,
          -1.025964911850265,
          -0.6298405031347276,
          -0.3077764748116857,
          -0.23592066028841888,
          -0.252066858804369,
          -0.7923417342705884,
          -0.912132238515626,
          -0.7722975350820146,
          23.97078673958164,
          -0.6709663801043214,
          -0.7390970341799932,
          -0.774658049833515,
          -0.21867204189271458,
          -0.9424711079107677,
          -0.15347394193459651,
          -0.13895898763377254,
          0.4542160602195346,
          -0.4785724470821256,
          0.06324938378178314,
          -0.9894704075036178,
          -0.820438991639994,
          -0.942331634420248,
          -0.9720032426121047,
          0.058910077695432286,
          0.04344468434167598,
          0.6305144425004283,
          -0.5685513783052905,
          0.10620594995315973,
          -0.0946795860388111,
          -0.04379430242056573,
          -1.0203818167777765,
          -1.0529706325194852,
          -0.4855388831300396,
          -0.22147826444518548,
          0.08133274980528386,
          -0.1313980304509928,
          0.04097135202137493,
          -0.8903732177377214,
          -1.028833932384791,
          -1.1794100640428282,
          -0.00869785410767295,
          -0.745454724738448,
          -0.9422128262491938,
          -0.9507251399157909,
          -0.8599993481139141,
          -0.561982128322513,
          -0.5417397280226393,
          -0.7167622988704189,
          -0.11499436803985905,
          0.9502447799327537,
          0.8327852488523122,
          0.27443287385729587,
          0.7382197569743348,
          0.6077252075117006,
          2.2209373648556086,
          0.34548512756969524,
          -0.8816381408156573,
          -0.2752364459027289,
          -0.4517027105041558,
          -0.06139440274948061,
          -1.2475654329028407,
          -1.2166247467038391,
          -1.2472809470685804,
          0.9211596471792004,
          1.8269470316404626,
          -0.8135940022500753,
          -0.7501042825071318,
          -0.341477357837349,
          2.6461793817509487,
          2.9656714630212666,
          -0.6185339552542988,
          -0.6977346965494645,
          -0.9032773985822251,
          0.19888108610162022,
          0.5759132953422343,
          0.9310141268457243,
          0.33569406893347664,
          0.9611342180697505,
          -0.7344619836727815,
          -0.6621968022127339,
          -0.6111790166613293,
          0.4443690149188693,
          1.7804893471274388,
          1.7802628573600965,
          -0.16320786559457764,
          -0.7064814136224773,
          -1.0567852085061928,
          -1.062092020300149,
          -1.1578750320111764,
          -0.8479190950082703,
          -1.2482713201297575,
          -1.295808029471601,
          -1.0191778197438925,
          -0.8742763057816869,
          -1.05431496723462,
          -1.1509687451382677,
          -0.12640741947502035,
          -0.5296906887139762,
          0.8991439181600225,
          0.5801262816847587,
          0.030182333738073327,
          0.44097072010551924,
          0.5090730986838577,
          -0.62468824822505,
          -0.9187384411912007,
          -0.9408546721386939,
          0.7691759791579272,
          -0.02317820547629532,
          -1.030176260954575,
          -0.5991120201324028,
          -0.8582437792569063,
          -0.805043512647698,
          -1.0765693302760706,
          -1.2162577050997703,
          -0.35136009961747255,
          -0.3789845269077974,
          0.20415422124433202,
          -0.1620695129964405,
          -0.5301715451466088,
          0.7168984171078233,
          -0.7884514815018294,
          1.1771118528648523,
          -0.19849917531280256,
          0.7287224753799859,
          0.32861228571698564,
          -0.27223976793034227,
          1.0206114657956484,
          -0.7731248434405077,
          -0.4596461246526932,
          -0.1808030180432724,
          0.3360921534023462,
          -0.332373682420879,
          -0.39542776932995044,
          -0.00016467235451714905,
          0.804868203355415,
          0.9839654195177969,
          -1.1409522512180856,
          1.0161288424601231,
          0.7551393667598874,
          0.5297806136201234,
          -0.44936689548951025,
          -0.5714572740031612,
          0.44316022520319426,
          -0.8902291501766159,
          0.09325283099318435,
          0.4341552381316478,
          1.2939051837305164,
          -0.07151849300883442,
          0.9466963788245679,
          -0.30009213175119626,
          -0.15367997165651112,
          0.13330575372740558,
          0.7204567907126214,
          -0.5968570537910743,
          -1.1411687343196133,
          -1.1265320492719786,
          -1.179703206328913,
          0.34290185970205167,
          -0.606105528471281,
          -0.22686952084445966,
          -0.3594528820296939,
          -0.2428478260180038,
          -0.8083578059779067,
          -0.5703254497795658,
          -0.6752510359587306,
          -0.7246925610172072,
          0.831017348608676,
          0.3028232073842287,
          -0.669771474955975,
          -0.683767382120866,
          -0.13786474489784054,
          0.8799742665603673,
          2.398499109717259,
          0.26419917148216343,
          -0.5506663099587876,
          0.2655052304838465,
          -0.30705779116710424,
          -0.340608276744269,
          0.662074757878737,
          0.8971078461709096,
          -0.9066178211159048,
          -0.8818493419479769,
          -0.9875127252015646,
          0.33931549379887144,
          -0.7486258483836619,
          1.0425067508842727,
          0.7470914476203382,
          0.6185852824569689,
          -0.8104786332822745,
          -0.809232076328899,
          -0.9047198265687625,
          -1.0960817990876142,
          -1.151644324785059,
          0.8637404016404009,
          -0.9263486897102764,
          -0.9431266208290445,
          -0.019251780769332264,
          -0.49544408283743785,
          0.02103186205183839,
          0.26690254619983356,
          0.701164968263447,
          0.07332184491599737,
          1.3566666378578687,
          1.2306271814878675,
          0.5193253708101577,
          -0.2563730065282162,
          1.6828720247969828,
          0.9168854454646626,
          0.8116741325219061,
          2.1171265686737986,
          0.3400402062327949,
          0.6326934085024459,
          0.6315570087105459,
          0.6924593945426609,
          0.17190060820370592,
          0.059513019705012556,
          0.05160887510290652,
          0.3549994692597748,
          0.653646564001146,
          -0.4326048953879499,
          0.02214847591671945,
          0.42841102984725304,
          -0.3820332649265588,
          0.8556204671751616,
          -0.5120508699625352,
          -0.5103121401621578,
          0.4355939459400616,
          -0.9828630287765558
         ],
         "xaxis": "x",
         "y": [
          -0.6739646838636574,
          -1.9473189481401838,
          1.1033178683527174,
          -1.4493208547228744,
          -2.0565863430345153,
          0.7676255399177075,
          0.4992760809388125,
          -0.7927832233675723,
          -1.338420653526079,
          0.5396453326829864,
          1.097680750995937,
          -0.20346551683368827,
          0.48063380805833905,
          0.9405245300272479,
          1.5850287915209085,
          0.8486473922120134,
          0.25286755219992985,
          0.9644292544096581,
          0.7505541968088338,
          -2.0083862968991664,
          -1.636014863068003,
          -1.2153619123977486,
          -1.4096857118535089,
          -0.07148874578289796,
          -1.6119077110553544,
          -1.42674859853959,
          0.4553450372483417,
          -0.10872496327085314,
          -0.18289544172365732,
          -0.5144339584992174,
          -0.45281968608159967,
          -0.4906675353201727,
          -0.3176054290856331,
          -0.4723320638354444,
          -0.9319034842851833,
          -1.1703269216433496,
          -2.1225964755821285,
          -1.4777853708354647,
          -0.9071245782113782,
          -0.8334466387121581,
          0.2758359139640027,
          -1.1383483246829624,
          -0.76276929484611,
          -0.765484372319395,
          -1.6465229221472495,
          -0.6955665098222236,
          -2.4319878959950687,
          -0.5670421664113917,
          -1.5932541602810353,
          -1.7725372164935098,
          -1.8786235493342414,
          -0.9413059468114835,
          -0.24801891187903005,
          -0.8176683910799,
          -1.7506065523377643,
          -1.177705044008821,
          -1.493034351001947,
          -1.0886645354163584,
          0.09488726022421541,
          -0.1017703891390532,
          -1.0459175117735797,
          -0.9029294419438052,
          -1.1539703300830588,
          -0.35561151348939296,
          -0.3669697472373767,
          -0.5457398319811846,
          0.43053399383354674,
          0.842085798544639,
          0.17230769851628594,
          0.825859968211172,
          0.9449233212546441,
          -0.3119204002087152,
          -0.7628143833517473,
          0.8447124396605282,
          0.7026946106744408,
          1.2746023195292608,
          1.036728463450747,
          0.9862876812149389,
          0.5687886434445057,
          0.9868638522966873,
          1.0893844735585843,
          -2.5472989225478027,
          1.3844467492508932,
          0.26290229869150084,
          1.2554188935786694,
          1.0304079505975714,
          0.954721659225409,
          1.6183496437950882,
          1.5011030407297121,
          1.2494456404047203,
          1.356299031848233,
          0.8775649256839542,
          1.1216289735478067,
          1.2158398291153734,
          1.028601095777733,
          1.2007949590757867,
          -2.2279643439560375,
          1.1354225571210306,
          -0.07439595489131966,
          0.6883384162506933,
          0.963936504643676,
          1.2851805184651013,
          0.2079765176737507,
          0.3149742442030114,
          0.24413822607144992,
          0.2868501959381431,
          1.531352137231759,
          0.9444978566022092,
          1.25099093499346,
          7.809611104037407,
          1.1829800709254346,
          1.5186690425457832,
          1.052807111220821,
          -0.09444248563206167,
          1.069367472877305,
          0.14993130202186603,
          0.08795676752004972,
          -0.7888787189442477,
          0.5829536633470344,
          -0.5104776410574187,
          1.80773038015636,
          0.5380873814321068,
          0.6717948884034263,
          0.8691308241154748,
          -0.042756649764006574,
          -0.006608872950800821,
          -2.02575106288729,
          1.834833943301224,
          0.3599849521462048,
          0.15517985098916579,
          0.20439415076335618,
          1.1077297997178597,
          1.1886441093317346,
          0.8500010456587568,
          0.8927253928241394,
          0.9021273295976229,
          -0.41802616956866623,
          -0.8026283560266542,
          0.7896573622687234,
          1.3565787586597198,
          1.4776463227284862,
          -0.9011970041014319,
          0.42568344686344334,
          0.9698998014543124,
          1.0557454450396004,
          0.5700490895711038,
          0.39878664953702037,
          0.568697577861969,
          0.8927229316614609,
          -0.48975872978710283,
          -1.2953916253570985,
          -1.4607806572242905,
          -0.6864013359656321,
          -2.3173252543921774,
          1.7927125263877561,
          -3.2143192888532544,
          1.4459159360079124,
          1.3030012218159286,
          -0.4179868362612422,
          -0.008666899158055056,
          -0.10798205900153073,
          1.4040532375558403,
          1.3658939815861555,
          1.446067832724493,
          1.0850120812870263,
          2.635172943669087,
          0.4237739551309449,
          1.0020991023875372,
          -0.79074040607535,
          -0.5185854127928907,
          -0.5664071239558458,
          0.5465673298374586,
          0.6657623651005816,
          1.428661985198619,
          -1.470615552948983,
          -1.4891993336632807,
          -1.8209990022726719,
          -0.3864162606232947,
          -2.3795573334852738,
          0.6803938828268135,
          0.5965333750252297,
          0.615246420054994,
          -0.6244653425035496,
          0.7049021785838213,
          0.7921878769098699,
          0.12811693898957432,
          1.055024149991778,
          1.300558979216141,
          1.34414059401914,
          1.4588747122913706,
          0.6815706587745488,
          1.3379303999433942,
          1.3907930087563294,
          1.673447203362143,
          0.676743957236965,
          1.4744593143224256,
          1.4389291399355535,
          -0.5615478457916367,
          0.7689553147172766,
          -1.3183622102640267,
          0.7182931443011752,
          -1.0272355928686923,
          -1.0575564656933643,
          -2.0050069811830142,
          0.7047008244930929,
          0.8093984588295866,
          1.0874097631989619,
          -1.770684764395072,
          -0.49267229324009154,
          1.3905162916511187,
          0.7423435064067169,
          0.7738565231904321,
          1.2156939217448763,
          1.4093212723542092,
          1.495675500785515,
          0.06014014863168693,
          0.9710368362258,
          -1.3844454358150353,
          -0.739545496071038,
          -0.07088681190013668,
          -1.715275837258978,
          0.5511511678442919,
          -2.8878926190919705,
          -0.38809313809407986,
          -0.8196340824784647,
          -1.5090861455721933,
          0.16861535145469098,
          0.000031371084572003624,
          0.5886597791855432,
          0.4098907522560701,
          -0.32469954176366395,
          -1.0697021406568656,
          0.44049786963205595,
          -0.07471807468774647,
          0.4243959165989465,
          -0.02785933802213768,
          -0.07085071485853763,
          1.431146610288315,
          -0.8297129284749903,
          -1.7806813891641062,
          -1.5545350032178038,
          0.26644308251611326,
          0.6586332395038154,
          1.231249807851491,
          0.7114784210623378,
          -0.47235659421837456,
          -1.7295526643266703,
          1.0668788694005333,
          -1.0940142209676724,
          -0.9087530441237222,
          -0.34902909410733246,
          -0.908028550841475,
          -1.3073075131526843,
          1.0015240442886786,
          1.8516939000166899,
          1.1925727528504633,
          1.1843328001798599,
          1.3564190683848913,
          -1.328943643549216,
          0.33635928734074333,
          -0.35792008303106315,
          -0.10581674051687256,
          0.030127186580283384,
          0.927965070876758,
          -0.1463207619860453,
          0.26255517368947834,
          0.6643247490919795,
          1.413050765229572,
          -1.488188081049335,
          0.7622177121657577,
          0.9071493117529656,
          -0.028533258722191677,
          1.891873603475815,
          -0.9025978666481939,
          -0.660129374906171,
          -0.12317020330343975,
          -0.251991559841299,
          -0.1419986070733936,
          0.3372671656441803,
          -0.09628135207917324,
          -0.5773072686992011,
          0.7269300665733487,
          1.1955381635154705,
          1.4185639133916819,
          -1.3202282503276852,
          1.1422812516637175,
          -1.239090707944013,
          -2.278148933350667,
          -0.16559567215055948,
          0.5096137574577503,
          0.49132965836630776,
          0.7778814207867331,
          1.2704766625478627,
          1.3520037356962673,
          -1.2720926833291737,
          0.794826268802427,
          1.0297084024686418,
          -0.8879598510330525,
          0.20120978158240777,
          -0.7263223762911971,
          -1.400774229567893,
          -2.2492337821167983,
          0.09175012444914185,
          -3.383551263200127,
          -2.1280153077292048,
          -1.347954401871592,
          0.36280441723088164,
          -0.5088437811003464,
          0.4450540984006539,
          -2.6071444051790804,
          -2.737602614835217,
          -0.5149955172591529,
          -2.31744904160083,
          -2.3246036724985917,
          -2.42648386789965,
          -1.243231174665054,
          -1.1442270394753036,
          -0.9934043315898407,
          -1.4552626168401623,
          -2.120671533365104,
          0.4180430536011731,
          -0.8878238440769209,
          -1.6956903392257618,
          -0.2435330738803249,
          -0.3612568848737611,
          1.5594558809173285,
          1.5600556910789802,
          -1.828709174152017,
          1.8224673289481295
         ],
         "yaxis": "y"
        },
        {
         "hovertemplate": "PC1=%{x}<br>PC2=%{y}<br>cluster=%{marker.color}<extra></extra>",
         "legendgroup": "",
         "marker": {
          "color": "teal",
          "coloraxis": "coloraxis",
          "size": 15,
          "symbol": "star"
         },
         "mode": "markers",
         "name": "",
         "orientation": "v",
         "showlegend": false,
         "type": "scatter",
         "x": [
          -0.9828630287765558
         ],
         "xaxis": "x",
         "y": [
          1.8224673289481295
         ],
         "yaxis": "y"
        }
       ],
       "layout": {
        "coloraxis": {
         "colorbar": {
          "title": {
           "text": "cluster"
          }
         },
         "colorscale": [
          [
           0,
           "rgb(150,0,90)"
          ],
          [
           0.125,
           "rgb(0,0,200)"
          ],
          [
           0.25,
           "rgb(0,25,255)"
          ],
          [
           0.375,
           "rgb(0,152,255)"
          ],
          [
           0.5,
           "rgb(44,255,150)"
          ],
          [
           0.625,
           "rgb(151,255,0)"
          ],
          [
           0.75,
           "rgb(255,234,0)"
          ],
          [
           0.875,
           "rgb(255,111,0)"
          ],
          [
           1,
           "rgb(255,0,0)"
          ]
         ]
        },
        "legend": {
         "tracegroupgap": 0
        },
        "template": {
         "data": {
          "bar": [
           {
            "error_x": {
             "color": "#2a3f5f"
            },
            "error_y": {
             "color": "#2a3f5f"
            },
            "marker": {
             "line": {
              "color": "#E5ECF6",
              "width": 0.5
             },
             "pattern": {
              "fillmode": "overlay",
              "size": 10,
              "solidity": 0.2
             }
            },
            "type": "bar"
           }
          ],
          "barpolar": [
           {
            "marker": {
             "line": {
              "color": "#E5ECF6",
              "width": 0.5
             },
             "pattern": {
              "fillmode": "overlay",
              "size": 10,
              "solidity": 0.2
             }
            },
            "type": "barpolar"
           }
          ],
          "carpet": [
           {
            "aaxis": {
             "endlinecolor": "#2a3f5f",
             "gridcolor": "white",
             "linecolor": "white",
             "minorgridcolor": "white",
             "startlinecolor": "#2a3f5f"
            },
            "baxis": {
             "endlinecolor": "#2a3f5f",
             "gridcolor": "white",
             "linecolor": "white",
             "minorgridcolor": "white",
             "startlinecolor": "#2a3f5f"
            },
            "type": "carpet"
           }
          ],
          "choropleth": [
           {
            "colorbar": {
             "outlinewidth": 0,
             "ticks": ""
            },
            "type": "choropleth"
           }
          ],
          "contour": [
           {
            "colorbar": {
             "outlinewidth": 0,
             "ticks": ""
            },
            "colorscale": [
             [
              0,
              "#0d0887"
             ],
             [
              0.1111111111111111,
              "#46039f"
             ],
             [
              0.2222222222222222,
              "#7201a8"
             ],
             [
              0.3333333333333333,
              "#9c179e"
             ],
             [
              0.4444444444444444,
              "#bd3786"
             ],
             [
              0.5555555555555556,
              "#d8576b"
             ],
             [
              0.6666666666666666,
              "#ed7953"
             ],
             [
              0.7777777777777778,
              "#fb9f3a"
             ],
             [
              0.8888888888888888,
              "#fdca26"
             ],
             [
              1,
              "#f0f921"
             ]
            ],
            "type": "contour"
           }
          ],
          "contourcarpet": [
           {
            "colorbar": {
             "outlinewidth": 0,
             "ticks": ""
            },
            "type": "contourcarpet"
           }
          ],
          "heatmap": [
           {
            "colorbar": {
             "outlinewidth": 0,
             "ticks": ""
            },
            "colorscale": [
             [
              0,
              "#0d0887"
             ],
             [
              0.1111111111111111,
              "#46039f"
             ],
             [
              0.2222222222222222,
              "#7201a8"
             ],
             [
              0.3333333333333333,
              "#9c179e"
             ],
             [
              0.4444444444444444,
              "#bd3786"
             ],
             [
              0.5555555555555556,
              "#d8576b"
             ],
             [
              0.6666666666666666,
              "#ed7953"
             ],
             [
              0.7777777777777778,
              "#fb9f3a"
             ],
             [
              0.8888888888888888,
              "#fdca26"
             ],
             [
              1,
              "#f0f921"
             ]
            ],
            "type": "heatmap"
           }
          ],
          "heatmapgl": [
           {
            "colorbar": {
             "outlinewidth": 0,
             "ticks": ""
            },
            "colorscale": [
             [
              0,
              "#0d0887"
             ],
             [
              0.1111111111111111,
              "#46039f"
             ],
             [
              0.2222222222222222,
              "#7201a8"
             ],
             [
              0.3333333333333333,
              "#9c179e"
             ],
             [
              0.4444444444444444,
              "#bd3786"
             ],
             [
              0.5555555555555556,
              "#d8576b"
             ],
             [
              0.6666666666666666,
              "#ed7953"
             ],
             [
              0.7777777777777778,
              "#fb9f3a"
             ],
             [
              0.8888888888888888,
              "#fdca26"
             ],
             [
              1,
              "#f0f921"
             ]
            ],
            "type": "heatmapgl"
           }
          ],
          "histogram": [
           {
            "marker": {
             "pattern": {
              "fillmode": "overlay",
              "size": 10,
              "solidity": 0.2
             }
            },
            "type": "histogram"
           }
          ],
          "histogram2d": [
           {
            "colorbar": {
             "outlinewidth": 0,
             "ticks": ""
            },
            "colorscale": [
             [
              0,
              "#0d0887"
             ],
             [
              0.1111111111111111,
              "#46039f"
             ],
             [
              0.2222222222222222,
              "#7201a8"
             ],
             [
              0.3333333333333333,
              "#9c179e"
             ],
             [
              0.4444444444444444,
              "#bd3786"
             ],
             [
              0.5555555555555556,
              "#d8576b"
             ],
             [
              0.6666666666666666,
              "#ed7953"
             ],
             [
              0.7777777777777778,
              "#fb9f3a"
             ],
             [
              0.8888888888888888,
              "#fdca26"
             ],
             [
              1,
              "#f0f921"
             ]
            ],
            "type": "histogram2d"
           }
          ],
          "histogram2dcontour": [
           {
            "colorbar": {
             "outlinewidth": 0,
             "ticks": ""
            },
            "colorscale": [
             [
              0,
              "#0d0887"
             ],
             [
              0.1111111111111111,
              "#46039f"
             ],
             [
              0.2222222222222222,
              "#7201a8"
             ],
             [
              0.3333333333333333,
              "#9c179e"
             ],
             [
              0.4444444444444444,
              "#bd3786"
             ],
             [
              0.5555555555555556,
              "#d8576b"
             ],
             [
              0.6666666666666666,
              "#ed7953"
             ],
             [
              0.7777777777777778,
              "#fb9f3a"
             ],
             [
              0.8888888888888888,
              "#fdca26"
             ],
             [
              1,
              "#f0f921"
             ]
            ],
            "type": "histogram2dcontour"
           }
          ],
          "mesh3d": [
           {
            "colorbar": {
             "outlinewidth": 0,
             "ticks": ""
            },
            "type": "mesh3d"
           }
          ],
          "parcoords": [
           {
            "line": {
             "colorbar": {
              "outlinewidth": 0,
              "ticks": ""
             }
            },
            "type": "parcoords"
           }
          ],
          "pie": [
           {
            "automargin": true,
            "type": "pie"
           }
          ],
          "scatter": [
           {
            "fillpattern": {
             "fillmode": "overlay",
             "size": 10,
             "solidity": 0.2
            },
            "type": "scatter"
           }
          ],
          "scatter3d": [
           {
            "line": {
             "colorbar": {
              "outlinewidth": 0,
              "ticks": ""
             }
            },
            "marker": {
             "colorbar": {
              "outlinewidth": 0,
              "ticks": ""
             }
            },
            "type": "scatter3d"
           }
          ],
          "scattercarpet": [
           {
            "marker": {
             "colorbar": {
              "outlinewidth": 0,
              "ticks": ""
             }
            },
            "type": "scattercarpet"
           }
          ],
          "scattergeo": [
           {
            "marker": {
             "colorbar": {
              "outlinewidth": 0,
              "ticks": ""
             }
            },
            "type": "scattergeo"
           }
          ],
          "scattergl": [
           {
            "marker": {
             "colorbar": {
              "outlinewidth": 0,
              "ticks": ""
             }
            },
            "type": "scattergl"
           }
          ],
          "scattermapbox": [
           {
            "marker": {
             "colorbar": {
              "outlinewidth": 0,
              "ticks": ""
             }
            },
            "type": "scattermapbox"
           }
          ],
          "scatterpolar": [
           {
            "marker": {
             "colorbar": {
              "outlinewidth": 0,
              "ticks": ""
             }
            },
            "type": "scatterpolar"
           }
          ],
          "scatterpolargl": [
           {
            "marker": {
             "colorbar": {
              "outlinewidth": 0,
              "ticks": ""
             }
            },
            "type": "scatterpolargl"
           }
          ],
          "scatterternary": [
           {
            "marker": {
             "colorbar": {
              "outlinewidth": 0,
              "ticks": ""
             }
            },
            "type": "scatterternary"
           }
          ],
          "surface": [
           {
            "colorbar": {
             "outlinewidth": 0,
             "ticks": ""
            },
            "colorscale": [
             [
              0,
              "#0d0887"
             ],
             [
              0.1111111111111111,
              "#46039f"
             ],
             [
              0.2222222222222222,
              "#7201a8"
             ],
             [
              0.3333333333333333,
              "#9c179e"
             ],
             [
              0.4444444444444444,
              "#bd3786"
             ],
             [
              0.5555555555555556,
              "#d8576b"
             ],
             [
              0.6666666666666666,
              "#ed7953"
             ],
             [
              0.7777777777777778,
              "#fb9f3a"
             ],
             [
              0.8888888888888888,
              "#fdca26"
             ],
             [
              1,
              "#f0f921"
             ]
            ],
            "type": "surface"
           }
          ],
          "table": [
           {
            "cells": {
             "fill": {
              "color": "#EBF0F8"
             },
             "line": {
              "color": "white"
             }
            },
            "header": {
             "fill": {
              "color": "#C8D4E3"
             },
             "line": {
              "color": "white"
             }
            },
            "type": "table"
           }
          ]
         },
         "layout": {
          "annotationdefaults": {
           "arrowcolor": "#2a3f5f",
           "arrowhead": 0,
           "arrowwidth": 1
          },
          "autotypenumbers": "strict",
          "coloraxis": {
           "colorbar": {
            "outlinewidth": 0,
            "ticks": ""
           }
          },
          "colorscale": {
           "diverging": [
            [
             0,
             "#8e0152"
            ],
            [
             0.1,
             "#c51b7d"
            ],
            [
             0.2,
             "#de77ae"
            ],
            [
             0.3,
             "#f1b6da"
            ],
            [
             0.4,
             "#fde0ef"
            ],
            [
             0.5,
             "#f7f7f7"
            ],
            [
             0.6,
             "#e6f5d0"
            ],
            [
             0.7,
             "#b8e186"
            ],
            [
             0.8,
             "#7fbc41"
            ],
            [
             0.9,
             "#4d9221"
            ],
            [
             1,
             "#276419"
            ]
           ],
           "sequential": [
            [
             0,
             "#0d0887"
            ],
            [
             0.1111111111111111,
             "#46039f"
            ],
            [
             0.2222222222222222,
             "#7201a8"
            ],
            [
             0.3333333333333333,
             "#9c179e"
            ],
            [
             0.4444444444444444,
             "#bd3786"
            ],
            [
             0.5555555555555556,
             "#d8576b"
            ],
            [
             0.6666666666666666,
             "#ed7953"
            ],
            [
             0.7777777777777778,
             "#fb9f3a"
            ],
            [
             0.8888888888888888,
             "#fdca26"
            ],
            [
             1,
             "#f0f921"
            ]
           ],
           "sequentialminus": [
            [
             0,
             "#0d0887"
            ],
            [
             0.1111111111111111,
             "#46039f"
            ],
            [
             0.2222222222222222,
             "#7201a8"
            ],
            [
             0.3333333333333333,
             "#9c179e"
            ],
            [
             0.4444444444444444,
             "#bd3786"
            ],
            [
             0.5555555555555556,
             "#d8576b"
            ],
            [
             0.6666666666666666,
             "#ed7953"
            ],
            [
             0.7777777777777778,
             "#fb9f3a"
            ],
            [
             0.8888888888888888,
             "#fdca26"
            ],
            [
             1,
             "#f0f921"
            ]
           ]
          },
          "colorway": [
           "#636efa",
           "#EF553B",
           "#00cc96",
           "#ab63fa",
           "#FFA15A",
           "#19d3f3",
           "#FF6692",
           "#B6E880",
           "#FF97FF",
           "#FECB52"
          ],
          "font": {
           "color": "#2a3f5f"
          },
          "geo": {
           "bgcolor": "white",
           "lakecolor": "white",
           "landcolor": "#E5ECF6",
           "showlakes": true,
           "showland": true,
           "subunitcolor": "white"
          },
          "hoverlabel": {
           "align": "left"
          },
          "hovermode": "closest",
          "mapbox": {
           "style": "light"
          },
          "paper_bgcolor": "white",
          "plot_bgcolor": "#E5ECF6",
          "polar": {
           "angularaxis": {
            "gridcolor": "white",
            "linecolor": "white",
            "ticks": ""
           },
           "bgcolor": "#E5ECF6",
           "radialaxis": {
            "gridcolor": "white",
            "linecolor": "white",
            "ticks": ""
           }
          },
          "scene": {
           "xaxis": {
            "backgroundcolor": "#E5ECF6",
            "gridcolor": "white",
            "gridwidth": 2,
            "linecolor": "white",
            "showbackground": true,
            "ticks": "",
            "zerolinecolor": "white"
           },
           "yaxis": {
            "backgroundcolor": "#E5ECF6",
            "gridcolor": "white",
            "gridwidth": 2,
            "linecolor": "white",
            "showbackground": true,
            "ticks": "",
            "zerolinecolor": "white"
           },
           "zaxis": {
            "backgroundcolor": "#E5ECF6",
            "gridcolor": "white",
            "gridwidth": 2,
            "linecolor": "white",
            "showbackground": true,
            "ticks": "",
            "zerolinecolor": "white"
           }
          },
          "shapedefaults": {
           "line": {
            "color": "#2a3f5f"
           }
          },
          "ternary": {
           "aaxis": {
            "gridcolor": "white",
            "linecolor": "white",
            "ticks": ""
           },
           "baxis": {
            "gridcolor": "white",
            "linecolor": "white",
            "ticks": ""
           },
           "bgcolor": "#E5ECF6",
           "caxis": {
            "gridcolor": "white",
            "linecolor": "white",
            "ticks": ""
           }
          },
          "title": {
           "x": 0.05
          },
          "xaxis": {
           "automargin": true,
           "gridcolor": "white",
           "linecolor": "white",
           "ticks": "",
           "title": {
            "standoff": 15
           },
           "zerolinecolor": "white",
           "zerolinewidth": 2
          },
          "yaxis": {
           "automargin": true,
           "gridcolor": "white",
           "linecolor": "white",
           "ticks": "",
           "title": {
            "standoff": 15
           },
           "zerolinecolor": "white",
           "zerolinewidth": 2
          }
         }
        },
        "title": {
         "text": "K-Means Clustering with PCA"
        },
        "xaxis": {
         "anchor": "y",
         "domain": [
          0,
          1
         ],
         "title": {
          "text": "PC1"
         }
        },
        "yaxis": {
         "anchor": "x",
         "domain": [
          0,
          1
         ],
         "title": {
          "text": "PC2"
         }
        }
       }
      }
     },
     "metadata": {},
     "output_type": "display_data"
    }
   ],
   "source": [
    "### create a scatter plot with plotly ###\n",
    "fig = px.scatter(df, x='PC1', y='PC2', color='cluster', \n",
    "    color_continuous_scale = 'rainbow', title='K-Means Clustering with PCA')\n",
    "\n",
    "### select the trace to mark with 'x' ###\n",
    "trace_to_mark = 328  ### earth row (0-based index)\n",
    "\n",
    "### add a new trace with 'x' marker ###\n",
    "marked_trace = px.scatter(df.iloc[trace_to_mark:trace_to_mark + 1], x='PC1', y='PC2',\n",
    "                          color='cluster', color_continuous_scale='rainbow', \n",
    "                          title='K-Means Clustering with PCA')\n",
    "marked_trace.update_traces(marker=dict(symbol='star', size=15, color='teal'))\n",
    "\n",
    "### add the new marked trace to the existing figure ###\n",
    "fig.add_trace(marked_trace.data[0])\n",
    "\n",
    "fig.show()"
   ]
  }
 ],
 "metadata": {
  "kernelspec": {
   "display_name": "Python 3 (ipykernel)",
   "language": "python",
   "name": "python3"
  },
  "language_info": {
   "codemirror_mode": {
    "name": "ipython",
    "version": 3
   },
   "file_extension": ".py",
   "mimetype": "text/x-python",
   "name": "python",
   "nbconvert_exporter": "python",
   "pygments_lexer": "ipython3",
   "version": "3.9.12"
  }
 },
 "nbformat": 4,
 "nbformat_minor": 2
}
